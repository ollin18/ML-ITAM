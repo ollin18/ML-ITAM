{
 "cells": [
  {
   "cell_type": "code",
   "execution_count": 1,
   "metadata": {
    "collapsed": true
   },
   "outputs": [],
   "source": [
    "import tensorflow as tf\n",
    "import numpy as np"
   ]
  },
  {
   "cell_type": "code",
   "execution_count": 2,
   "metadata": {
    "collapsed": true
   },
   "outputs": [],
   "source": [
    "import matplotlib.pyplot as plt\n",
    "%matplotlib inline"
   ]
  },
  {
   "cell_type": "code",
   "execution_count": 3,
   "metadata": {
    "collapsed": false
   },
   "outputs": [
    {
     "data": {
      "text/html": [
       "\n",
       "    <div class=\"bk-root\">\n",
       "        <a href=\"http://bokeh.pydata.org\" target=\"_blank\" class=\"bk-logo bk-logo-small bk-logo-notebook\"></a>\n",
       "        <span id=\"31facc14-1c85-4a52-b89b-79d1439cdfb4\">Loading BokehJS ...</span>\n",
       "    </div>"
      ]
     },
     "metadata": {},
     "output_type": "display_data"
    },
    {
     "data": {
      "application/javascript": [
       "\n",
       "(function(global) {\n",
       "  function now() {\n",
       "    return new Date();\n",
       "  }\n",
       "\n",
       "  if (typeof (window._bokeh_onload_callbacks) === \"undefined\") {\n",
       "    window._bokeh_onload_callbacks = [];\n",
       "  }\n",
       "\n",
       "  function run_callbacks() {\n",
       "    window._bokeh_onload_callbacks.forEach(function(callback) { callback() });\n",
       "    delete window._bokeh_onload_callbacks\n",
       "    console.info(\"Bokeh: all callbacks have finished\");\n",
       "  }\n",
       "\n",
       "  function load_libs(js_urls, callback) {\n",
       "    window._bokeh_onload_callbacks.push(callback);\n",
       "    if (window._bokeh_is_loading > 0) {\n",
       "      console.log(\"Bokeh: BokehJS is being loaded, scheduling callback at\", now());\n",
       "      return null;\n",
       "    }\n",
       "    if (js_urls == null || js_urls.length === 0) {\n",
       "      run_callbacks();\n",
       "      return null;\n",
       "    }\n",
       "    console.log(\"Bokeh: BokehJS not loaded, scheduling load and callback at\", now());\n",
       "    window._bokeh_is_loading = js_urls.length;\n",
       "    for (var i = 0; i < js_urls.length; i++) {\n",
       "      var url = js_urls[i];\n",
       "      var s = document.createElement('script');\n",
       "      s.src = url;\n",
       "      s.async = false;\n",
       "      s.onreadystatechange = s.onload = function() {\n",
       "        window._bokeh_is_loading--;\n",
       "        if (window._bokeh_is_loading === 0) {\n",
       "          console.log(\"Bokeh: all BokehJS libraries loaded\");\n",
       "          run_callbacks()\n",
       "        }\n",
       "      };\n",
       "      s.onerror = function() {\n",
       "        console.warn(\"failed to load library \" + url);\n",
       "      };\n",
       "      console.log(\"Bokeh: injecting script tag for BokehJS library: \", url);\n",
       "      document.getElementsByTagName(\"head\")[0].appendChild(s);\n",
       "    }\n",
       "  };\n",
       "\n",
       "  var js_urls = ['https://cdn.pydata.org/bokeh/release/bokeh-0.12.0.min.js', 'https://cdn.pydata.org/bokeh/release/bokeh-widgets-0.12.0.min.js', 'https://cdn.pydata.org/bokeh/release/bokeh-compiler-0.12.0.min.js'];\n",
       "\n",
       "  var inline_js = [\n",
       "    function(Bokeh) {\n",
       "      Bokeh.set_log_level(\"info\");\n",
       "    },\n",
       "    \n",
       "    function(Bokeh) {\n",
       "      Bokeh.$(\"#31facc14-1c85-4a52-b89b-79d1439cdfb4\").text(\"BokehJS successfully loaded\");\n",
       "    },\n",
       "    function(Bokeh) {\n",
       "      console.log(\"Bokeh: injecting CSS: https://cdn.pydata.org/bokeh/release/bokeh-0.12.0.min.css\");\n",
       "      Bokeh.embed.inject_css(\"https://cdn.pydata.org/bokeh/release/bokeh-0.12.0.min.css\");\n",
       "      console.log(\"Bokeh: injecting CSS: https://cdn.pydata.org/bokeh/release/bokeh-widgets-0.12.0.min.css\");\n",
       "      Bokeh.embed.inject_css(\"https://cdn.pydata.org/bokeh/release/bokeh-widgets-0.12.0.min.css\");\n",
       "    }\n",
       "  ];\n",
       "\n",
       "  function run_inline_js() {\n",
       "    for (var i = 0; i < inline_js.length; i++) {\n",
       "      inline_js[i](window.Bokeh);\n",
       "    }\n",
       "  }\n",
       "\n",
       "  if (window._bokeh_is_loading === 0) {\n",
       "    console.log(\"Bokeh: BokehJS loaded, going straight to plotting\");\n",
       "    run_inline_js();\n",
       "  } else {\n",
       "    load_libs(js_urls, function() {\n",
       "      console.log(\"Bokeh: BokehJS plotting callback run at\", now());\n",
       "      run_inline_js();\n",
       "    });\n",
       "  }\n",
       "}(this));"
      ]
     },
     "metadata": {},
     "output_type": "display_data"
    }
   ],
   "source": [
    "from bokeh.plotting import figure\n",
    "from bokeh.io import output_notebook, show#, output_file #Descomentar para guardar el archivo .html\n",
    "from bokeh.models.widgets import Panel, Tabs\n",
    "from bokeh.models import Span\n",
    "output_notebook()"
   ]
  },
  {
   "cell_type": "code",
   "execution_count": 4,
   "metadata": {
    "collapsed": true
   },
   "outputs": [],
   "source": [
    "X=np.asarray([[0,0],[0,1],[1,0],[1,1]])\n",
    "Y=np.asarray([[0],[1],[1],[0]])"
   ]
  },
  {
   "cell_type": "code",
   "execution_count": 5,
   "metadata": {
    "collapsed": true
   },
   "outputs": [],
   "source": [
    "input_size=2\n",
    "hidden_layer_size=2\n",
    "output_layer_size=1\n",
    "#Los placeholders son para los datos de entrada\n",
    "x = tf.placeholder(tf.float32, shape=[4, input_size])\n",
    "y_ = tf.placeholder(tf.float32, shape=[4, output_layer_size]) #la y real\n",
    "#La variables para lo que se va a ir calculando y modificando en el camino\n",
    "W_layer1=tf.Variable(tf.random_uniform([input_size,hidden_layer_size], -1, 1), name=\"W_layer1\")\n",
    "W_layer2=tf.Variable(tf.random_uniform([hidden_layer_size,output_layer_size],-1, 1), name=\"W_layer2\")\n",
    "b_layer1 = tf.Variable(tf.zeros([hidden_layer_size]), name=\"b_layer1\")\n",
    "b_layer2 = tf.Variable(tf.zeros([output_layer_size]), name=\"b_layer2\")"
   ]
  },
  {
   "cell_type": "code",
   "execution_count": 6,
   "metadata": {
    "collapsed": true
   },
   "outputs": [],
   "source": [
    "y = tf.sigmoid(tf.matmul(x,W_layer1)+b_layer1) #la de nuestra\n",
    "hip = tf.sigmoid(tf.matmul(y, W_layer2)+b_layer2)\n",
    "#lossfn = tf.reduce_mean(tf.reduce_sum((y_-y)**2)) #cuadratico\n",
    "lossfn= tf.reduce_mean(( (y_ * tf.log(hip)) +  \n",
    "  ((1 - y_) * tf.log(1.0 - hip)) ) * -1) # cross entropy\n",
    "train_step = tf.train.GradientDescentOptimizer(0.01).minimize(lossfn)"
   ]
  },
  {
   "cell_type": "code",
   "execution_count": 7,
   "metadata": {
    "collapsed": true
   },
   "outputs": [],
   "source": [
    "init = tf.initialize_all_variables()\n",
    "sess = tf.Session()"
   ]
  },
  {
   "cell_type": "code",
   "execution_count": 11,
   "metadata": {
    "collapsed": false
   },
   "outputs": [
    {
     "name": "stdout",
     "output_type": "stream",
     "text": [
      "1.0\n"
     ]
    }
   ],
   "source": [
    "correct_prediction = tf.equal(tf.round(hip),y_) # aca estams definiendo otras operacioes\n",
    "accuracy = tf.reduce_mean(tf.cast(correct_prediction, tf.float32))\n",
    "print(sess.run(accuracy, feed_dict={x: X, y_: Y})) # las corremos"
   ]
  },
  {
   "cell_type": "code",
   "execution_count": 55,
   "metadata": {
    "collapsed": false
   },
   "outputs": [],
   "source": [
    "sess.run(init)\n",
    "while (sess.run(accuracy, feed_dict={x: X, y_: Y})) != 1.0:\n",
    "    sess.run(train_step, feed_dict={x: X, y_: Y})\n",
    "\n",
    "for i in range(50000):\n",
    "    sess.run(train_step, feed_dict={x: X, y_: Y})"
   ]
  },
  {
   "cell_type": "code",
   "execution_count": 56,
   "metadata": {
    "collapsed": false
   },
   "outputs": [
    {
     "name": "stdout",
     "output_type": "stream",
     "text": [
      "1.0\n"
     ]
    }
   ],
   "source": [
    "correct_prediction = tf.equal(tf.round(hip),y_) # aca estams definiendo otras operacioes\n",
    "accuracy = tf.reduce_mean(tf.cast(correct_prediction, tf.float32))\n",
    "print(sess.run(accuracy, feed_dict={x: X, y_: Y})) # las corremos"
   ]
  },
  {
   "cell_type": "markdown",
   "metadata": {},
   "source": [
    "# Graficar "
   ]
  },
  {
   "cell_type": "code",
   "execution_count": 57,
   "metadata": {
    "collapsed": true
   },
   "outputs": [],
   "source": [
    "w1=[sess.run(b_layer1, feed_dict={x: X, y_: Y})[0]]+[i[0] for i in sess.run(W_layer1, feed_dict={x: X, y_: Y})]\n",
    "w2=[sess.run(b_layer2, feed_dict={x: X, y_: Y})[0]]+[i[0] for i in sess.run(W_layer2, feed_dict={x: X, y_: Y})]"
   ]
  },
  {
   "cell_type": "code",
   "execution_count": 58,
   "metadata": {
    "collapsed": false
   },
   "outputs": [
    {
     "name": "stdout",
     "output_type": "stream",
     "text": [
      "1.48209 1.47912 -0.997995\n"
     ]
    }
   ],
   "source": [
    "m1=((w1[0]/w1[2]))/((-w1[0]/w1[1]))\n",
    "print -w1[0]/w1[1], -w1[0]/w1[2], m1"
   ]
  },
  {
   "cell_type": "code",
   "execution_count": 59,
   "metadata": {
    "collapsed": false
   },
   "outputs": [
    {
     "name": "stdout",
     "output_type": "stream",
     "text": [
      "0.454525 -0.427309 0.940122\n"
     ]
    }
   ],
   "source": [
    "m2=((w2[0]/w2[2]))/((-w2[0]/w2[1]))\n",
    "print -w2[0]/w2[1], -w2[0]/w2[2], m2"
   ]
  },
  {
   "cell_type": "code",
   "execution_count": 60,
   "metadata": {
    "collapsed": false
   },
   "outputs": [
    {
     "data": {
      "text/plain": [
       "[6.7372127, -4.545764, -4.5548944]"
      ]
     },
     "execution_count": 60,
     "metadata": {},
     "output_type": "execute_result"
    }
   ],
   "source": [
    "w1"
   ]
  },
  {
   "cell_type": "code",
   "execution_count": 61,
   "metadata": {
    "collapsed": false
   },
   "outputs": [
    {
     "data": {
      "text/plain": [
       "[-4.1673698, 9.1686268, -9.7525969]"
      ]
     },
     "execution_count": 61,
     "metadata": {},
     "output_type": "execute_result"
    }
   ],
   "source": [
    "w2"
   ]
  },
  {
   "cell_type": "code",
   "execution_count": 75,
   "metadata": {
    "collapsed": false
   },
   "outputs": [
    {
     "data": {
      "text/html": [
       "\n",
       "\n",
       "    <div class=\"bk-root\">\n",
       "        <div class=\"plotdiv\" id=\"978548f4-6993-4368-b01e-9dc0031221b3\"></div>\n",
       "    </div>\n",
       "<script type=\"text/javascript\">\n",
       "  \n",
       "  (function(global) {\n",
       "    function now() {\n",
       "      return new Date();\n",
       "    }\n",
       "  \n",
       "    if (typeof (window._bokeh_onload_callbacks) === \"undefined\") {\n",
       "      window._bokeh_onload_callbacks = [];\n",
       "    }\n",
       "  \n",
       "    function run_callbacks() {\n",
       "      window._bokeh_onload_callbacks.forEach(function(callback) { callback() });\n",
       "      delete window._bokeh_onload_callbacks\n",
       "      console.info(\"Bokeh: all callbacks have finished\");\n",
       "    }\n",
       "  \n",
       "    function load_libs(js_urls, callback) {\n",
       "      window._bokeh_onload_callbacks.push(callback);\n",
       "      if (window._bokeh_is_loading > 0) {\n",
       "        console.log(\"Bokeh: BokehJS is being loaded, scheduling callback at\", now());\n",
       "        return null;\n",
       "      }\n",
       "      if (js_urls == null || js_urls.length === 0) {\n",
       "        run_callbacks();\n",
       "        return null;\n",
       "      }\n",
       "      console.log(\"Bokeh: BokehJS not loaded, scheduling load and callback at\", now());\n",
       "      window._bokeh_is_loading = js_urls.length;\n",
       "      for (var i = 0; i < js_urls.length; i++) {\n",
       "        var url = js_urls[i];\n",
       "        var s = document.createElement('script');\n",
       "        s.src = url;\n",
       "        s.async = false;\n",
       "        s.onreadystatechange = s.onload = function() {\n",
       "          window._bokeh_is_loading--;\n",
       "          if (window._bokeh_is_loading === 0) {\n",
       "            console.log(\"Bokeh: all BokehJS libraries loaded\");\n",
       "            run_callbacks()\n",
       "          }\n",
       "        };\n",
       "        s.onerror = function() {\n",
       "          console.warn(\"failed to load library \" + url);\n",
       "        };\n",
       "        console.log(\"Bokeh: injecting script tag for BokehJS library: \", url);\n",
       "        document.getElementsByTagName(\"head\")[0].appendChild(s);\n",
       "      }\n",
       "    };var element = document.getElementById(\"978548f4-6993-4368-b01e-9dc0031221b3\");\n",
       "    if (element == null) {\n",
       "      console.log(\"Bokeh: ERROR: autoload.js configured with elementid '978548f4-6993-4368-b01e-9dc0031221b3' but no matching script tag was found. \")\n",
       "      return false;\n",
       "    }\n",
       "  \n",
       "    var js_urls = [];\n",
       "  \n",
       "    var inline_js = [\n",
       "      function(Bokeh) {\n",
       "        Bokeh.$(function() {\n",
       "            var docs_json = {\"de7bc86e-bdef-4896-9f59-0e0a121352c2\":{\"roots\":{\"references\":[{\"attributes\":{\"below\":[{\"id\":\"dff669fe-1eee-4914-b52a-5c51b34173ae\",\"type\":\"LinearAxis\"}],\"left\":[{\"id\":\"4b35c0c8-d54b-4e45-8abc-1727c8cfaed8\",\"type\":\"LinearAxis\"}],\"plot_height\":500,\"plot_width\":750,\"renderers\":[{\"id\":\"dff669fe-1eee-4914-b52a-5c51b34173ae\",\"type\":\"LinearAxis\"},{\"id\":\"922269bd-522e-4754-bf55-69bba8e68747\",\"type\":\"Grid\"},{\"id\":\"4b35c0c8-d54b-4e45-8abc-1727c8cfaed8\",\"type\":\"LinearAxis\"},{\"id\":\"f53fd1d1-0591-4ae6-baa2-630dd189f338\",\"type\":\"Grid\"},{\"id\":\"4c19e034-3093-4686-ab2d-9677beea3f39\",\"type\":\"BoxAnnotation\"},{\"id\":\"67b1416c-fe3c-4476-93d0-361728015caa\",\"type\":\"GlyphRenderer\"},{\"id\":\"ae2f1eb0-0dad-48b5-8530-0a60a7994334\",\"type\":\"GlyphRenderer\"},{\"id\":\"c231a0ef-1b5d-4509-9b46-d8e56464fa9e\",\"type\":\"GlyphRenderer\"}],\"title\":{\"id\":\"a92604c4-7aae-4cc9-a4fc-ca4e88996679\",\"type\":\"Title\"},\"tool_events\":{\"id\":\"24bdd29c-0595-47c9-bd69-61eb35b3cead\",\"type\":\"ToolEvents\"},\"toolbar\":{\"id\":\"b48e496f-5d63-4e61-9a13-877cfd3aceb5\",\"type\":\"Toolbar\"},\"x_range\":{\"id\":\"dd6e4378-7db9-4796-a91d-db5f601475a5\",\"type\":\"DataRange1d\"},\"y_range\":{\"id\":\"ba27221f-73a7-4e4a-9aff-27f6b36cec97\",\"type\":\"DataRange1d\"}},\"id\":\"d478fbda-2fda-4e41-bd40-7623675afd7b\",\"subtype\":\"Figure\",\"type\":\"Plot\"},{\"attributes\":{\"dimension\":1,\"plot\":{\"id\":\"d478fbda-2fda-4e41-bd40-7623675afd7b\",\"subtype\":\"Figure\",\"type\":\"Plot\"},\"ticker\":{\"id\":\"669acdb7-74b9-4993-98a1-558fa8fe63d4\",\"type\":\"BasicTicker\"}},\"id\":\"f53fd1d1-0591-4ae6-baa2-630dd189f338\",\"type\":\"Grid\"},{\"attributes\":{},\"id\":\"4e3db1b1-0a77-4614-aa95-8734d36d789e\",\"type\":\"BasicTickFormatter\"},{\"attributes\":{\"plot\":{\"id\":\"d478fbda-2fda-4e41-bd40-7623675afd7b\",\"subtype\":\"Figure\",\"type\":\"Plot\"},\"ticker\":{\"id\":\"c7d0a6b4-f646-4f4a-9a92-a03a2ba5d4a0\",\"type\":\"BasicTicker\"}},\"id\":\"922269bd-522e-4754-bf55-69bba8e68747\",\"type\":\"Grid\"},{\"attributes\":{},\"id\":\"c7d0a6b4-f646-4f4a-9a92-a03a2ba5d4a0\",\"type\":\"BasicTicker\"},{\"attributes\":{\"callback\":null,\"column_names\":[\"x\",\"y\"],\"data\":{\"x\":[-0.5,-0.4797979797979798,-0.4595959595959596,-0.4393939393939394,-0.41919191919191917,-0.398989898989899,-0.3787878787878788,-0.35858585858585856,-0.33838383838383834,-0.3181818181818182,-0.29797979797979796,-0.2777777777777778,-0.25757575757575757,-0.23737373737373735,-0.21717171717171713,-0.19696969696969696,-0.17676767676767674,-0.15656565656565652,-0.13636363636363635,-0.11616161616161613,-0.09595959595959591,-0.07575757575757575,-0.055555555555555525,-0.035353535353535304,-0.015151515151515138,0.005050505050505083,0.025252525252525304,0.045454545454545525,0.06565656565656575,0.08585858585858586,0.10606060606060608,0.1262626262626263,0.14646464646464652,0.16666666666666674,0.18686868686868696,0.20707070707070718,0.2272727272727273,0.24747474747474751,0.26767676767676774,0.28787878787878796,0.3080808080808082,0.3282828282828284,0.3484848484848485,0.36868686868686873,0.38888888888888895,0.40909090909090917,0.4292929292929294,0.4494949494949496,0.4696969696969697,0.48989898989898994,0.5101010101010102,0.5303030303030305,0.5505050505050506,0.5707070707070707,0.590909090909091,0.6111111111111112,0.6313131313131315,0.6515151515151516,0.6717171717171717,0.691919191919192,0.7121212121212122,0.7323232323232325,0.7525252525252526,0.7727272727272729,0.792929292929293,0.8131313131313131,0.8333333333333335,0.8535353535353536,0.8737373737373739,0.893939393939394,0.9141414141414144,0.9343434343434345,0.9545454545454546,0.9747474747474749,0.994949494949495,1.0151515151515154,1.0353535353535355,1.0555555555555556,1.075757575757576,1.095959595959596,1.1161616161616164,1.1363636363636365,1.1565656565656568,1.176767676767677,1.196969696969697,1.2171717171717173,1.2373737373737375,1.2575757575757578,1.277777777777778,1.2979797979797982,1.3181818181818183,1.3383838383838385,1.3585858585858588,1.378787878787879,1.3989898989898992,1.4191919191919193,1.4393939393939394,1.4595959595959598,1.47979797979798,1.5],\"y\":[0.8973695337772369,0.8783771784016581,0.8593848230260792,0.8403924676505001,0.8214001122749213,0.8024077568993424,0.7834154015237635,0.7644230461481846,0.7454306907726056,0.7264383353970267,0.7074459800214479,0.688453624645869,0.66946126927029,0.6504689138947111,0.6314765585191322,0.6124842031435533,0.5934918477679744,0.5744994923923954,0.5555071370168165,0.5365147816412377,0.5175224262656587,0.49853007089007983,0.4795377155145009,0.460545360138922,0.4415530047633431,0.42256064938776416,0.40356829401218525,0.38457593863660633,0.3655835832610274,0.3465912278854486,0.32759887250986963,0.3086065171342907,0.2896141617587118,0.2706218063831328,0.25162945100755396,0.23263709563197502,0.21364474025639618,0.19465238488081726,0.17566002950523835,0.15666767412965943,0.13767531875408046,0.11868296337850154,0.09969060800292273,0.08069825262734381,0.061705897251764896,0.04271354187618592,0.023721186500607006,0.004728831125028088,-0.014263524250550719,-0.033255879626129636,-0.05224823500170861,-0.07124059037728764,-0.09023294575286644,-0.1092253011284453,-0.12821765650402428,-0.14721001187960314,-0.16620236725518212,-0.18519472263076098,-0.20418707800633984,-0.2231794333819188,-0.24217178875749767,-0.26116414413307665,-0.2801564995086555,-0.2991488548842345,-0.31814121025981335,-0.3371335656353922,-0.3561259210109712,-0.37511827638655004,-0.394110631762129,-0.4131029871377079,-0.43209534251328696,-0.4510876978888657,-0.4700800532644446,-0.48907240864002355,-0.5080647640156024,-0.5270571193911815,-0.5460494747667602,-0.5650418301423391,-0.5840341855179181,-0.6030265408934969,-0.622018896269076,-0.6410112516446549,-0.6600036070202338,-0.6789959623958126,-0.6979883177713915,-0.7169806731469706,-0.7359730285225494,-0.7549653838981283,-0.7739577392737071,-0.7929500946492862,-0.8119424500248651,-0.830934805400444,-0.8499271607760228,-0.8689195161516017,-0.8879118715271808,-0.9069042269027596,-0.9258965822783385,-0.9448889376539173,-0.9638812930294962,-0.9828736484050751]}},\"id\":\"db06a172-8cf5-4ed2-9239-a739690bfac8\",\"type\":\"ColumnDataSource\"},{\"attributes\":{\"callback\":null,\"column_names\":[\"x\",\"y\"],\"data\":{\"x\":[-0.5,-0.4797979797979798,-0.4595959595959596,-0.4393939393939394,-0.41919191919191917,-0.398989898989899,-0.3787878787878788,-0.35858585858585856,-0.33838383838383834,-0.3181818181818182,-0.29797979797979796,-0.2777777777777778,-0.25757575757575757,-0.23737373737373735,-0.21717171717171713,-0.19696969696969696,-0.17676767676767674,-0.15656565656565652,-0.13636363636363635,-0.11616161616161613,-0.09595959595959591,-0.07575757575757575,-0.055555555555555525,-0.035353535353535304,-0.015151515151515138,0.005050505050505083,0.025252525252525304,0.045454545454545525,0.06565656565656575,0.08585858585858586,0.10606060606060608,0.1262626262626263,0.14646464646464652,0.16666666666666674,0.18686868686868696,0.20707070707070718,0.2272727272727273,0.24747474747474751,0.26767676767676774,0.28787878787878796,0.3080808080808082,0.3282828282828284,0.3484848484848485,0.36868686868686873,0.38888888888888895,0.40909090909090917,0.4292929292929294,0.4494949494949496,0.4696969696969697,0.48989898989898994,0.5101010101010102,0.5303030303030305,0.5505050505050506,0.5707070707070707,0.590909090909091,0.6111111111111112,0.6313131313131315,0.6515151515151516,0.6717171717171717,0.691919191919192,0.7121212121212122,0.7323232323232325,0.7525252525252526,0.7727272727272729,0.792929292929293,0.8131313131313131,0.8333333333333335,0.8535353535353536,0.8737373737373739,0.893939393939394,0.9141414141414144,0.9343434343434345,0.9545454545454546,0.9747474747474749,0.994949494949495,1.0151515151515154,1.0353535353535355,1.0555555555555556,1.075757575757576,1.095959595959596,1.1161616161616164,1.1363636363636365,1.1565656565656568,1.176767676767677,1.196969696969697,1.2171717171717173,1.2373737373737375,1.2575757575757578,1.277777777777778,1.2979797979797982,1.3181818181818183,1.3383838383838385,1.3585858585858588,1.378787878787879,1.3989898989898992,1.4191919191919193,1.4393939393939394,1.4595959595959598,1.47979797979798,1.5],\"y\":[1.9781127274036407,1.957951203440175,1.937789679476709,1.9176281555132433,1.8974666315497775,1.8773051075863116,1.8571435836228458,1.83698205965938,1.816820535695914,1.7966590117324484,1.7764974877689823,1.7563359638055167,1.7361744398420507,1.7160129158785848,1.695851391915119,1.6756898679516532,1.6555283439881874,1.6353668200247216,1.6152052960612557,1.59504377209779,1.574882248134324,1.5547207241708583,1.5345592002073924,1.5143976762439264,1.4942361522804606,1.4740746283169948,1.453913104353529,1.4337515803900631,1.4135900564265973,1.3934285324631315,1.3732670084996657,1.3531054845361998,1.332943960572734,1.3127824366092682,1.2926209126458024,1.2724593886823363,1.2522978647188707,1.232136340755405,1.211974816791939,1.191813292828473,1.1716517688650072,1.1514902449015414,1.1313287209380756,1.1111671969746097,1.091005673011144,1.070844149047678,1.0506826250842123,1.0305211011207462,1.0103595771572806,0.9901980531938148,0.9700365292303489,0.949875005266883,0.9297134813034172,0.9095519573399514,0.8893904333764855,0.8692289094130198,0.8490673854495538,0.828905861486088,0.8087443375226223,0.7885828135591564,0.7684212895956906,0.7482597656322246,0.7280982416687589,0.707936717705293,0.6877751937418272,0.6676136697783615,0.6474521458148955,0.6272906218514297,0.6071290978879638,0.586967573924498,0.566806049961032,0.5466445259975663,0.5264830020341006,0.5063214780706347,0.48615995410716883,0.465998430143703,0.4458369061802372,0.42567538221677137,0.40551385825330555,0.3853523342898397,0.3651908103263737,0.3450292863629081,0.32486776239944204,0.3047062384359762,0.2845447144725106,0.2643831905090446,0.24422166654557875,0.22406014258211293,0.2038986186186471,0.18373709465518107,0.16357557069171547,0.14341404672824964,0.12325252276478382,0.103090998801318,0.08292947483785196,0.06276795087438636,0.042606426910920536,0.022444902947454493,0.002283378983988893,-0.01787814497947693]}},\"id\":\"f8adbc7a-d713-4e6f-ac53-9ae2853fd57e\",\"type\":\"ColumnDataSource\"},{\"attributes\":{},\"id\":\"669acdb7-74b9-4993-98a1-558fa8fe63d4\",\"type\":\"BasicTicker\"},{\"attributes\":{\"line_alpha\":{\"value\":0.1},\"line_color\":{\"value\":\"#1f77b4\"},\"line_width\":{\"value\":1.5},\"x\":{\"field\":\"x\"},\"y\":{\"field\":\"y\"}},\"id\":\"ad0b0a50-ec23-4087-acb0-b272eb3fd046\",\"type\":\"Line\"},{\"attributes\":{},\"id\":\"24bdd29c-0595-47c9-bd69-61eb35b3cead\",\"type\":\"ToolEvents\"},{\"attributes\":{\"data_source\":{\"id\":\"78278b15-fd53-41d1-973a-82dc7710995a\",\"type\":\"ColumnDataSource\"},\"glyph\":{\"id\":\"a1561526-127f-4fd8-a366-9655b0a0bfa2\",\"type\":\"Circle\"},\"hover_glyph\":null,\"nonselection_glyph\":{\"id\":\"b98fe808-7671-462d-ad8c-6dabdc4c2a4d\",\"type\":\"Circle\"},\"selection_glyph\":null},\"id\":\"67b1416c-fe3c-4476-93d0-361728015caa\",\"type\":\"GlyphRenderer\"},{\"attributes\":{\"active_drag\":\"auto\",\"active_scroll\":\"auto\",\"active_tap\":\"auto\",\"tools\":[{\"id\":\"114bf5f8-015d-46c1-b266-ea530d4ed6e8\",\"type\":\"PanTool\"},{\"id\":\"f9cd85d8-b365-411e-b5f3-37b0025d57fe\",\"type\":\"WheelZoomTool\"},{\"id\":\"b2ca1c95-f58e-4265-ae12-686a00e5cff4\",\"type\":\"BoxZoomTool\"},{\"id\":\"aa95a71a-6bf5-48b8-908d-19fe43afeb3f\",\"type\":\"SaveTool\"},{\"id\":\"3ece99cb-048b-451c-b162-55b82a06dd8e\",\"type\":\"ResetTool\"},{\"id\":\"f039ec0f-61d9-49c3-9849-4804696a990b\",\"type\":\"HelpTool\"}]},\"id\":\"b48e496f-5d63-4e61-9a13-877cfd3aceb5\",\"type\":\"Toolbar\"},{\"attributes\":{\"axis_label\":\"X1\",\"formatter\":{\"id\":\"7877b34d-0fa9-473f-a881-e389fea374bf\",\"type\":\"BasicTickFormatter\"},\"plot\":{\"id\":\"d478fbda-2fda-4e41-bd40-7623675afd7b\",\"subtype\":\"Figure\",\"type\":\"Plot\"},\"ticker\":{\"id\":\"c7d0a6b4-f646-4f4a-9a92-a03a2ba5d4a0\",\"type\":\"BasicTicker\"}},\"id\":\"dff669fe-1eee-4914-b52a-5c51b34173ae\",\"type\":\"LinearAxis\"},{\"attributes\":{\"data_source\":{\"id\":\"f8adbc7a-d713-4e6f-ac53-9ae2853fd57e\",\"type\":\"ColumnDataSource\"},\"glyph\":{\"id\":\"9ce63da0-b905-4ace-bb3c-130263f37960\",\"type\":\"Line\"},\"hover_glyph\":null,\"nonselection_glyph\":{\"id\":\"ad0b0a50-ec23-4087-acb0-b272eb3fd046\",\"type\":\"Line\"},\"selection_glyph\":null},\"id\":\"ae2f1eb0-0dad-48b5-8530-0a60a7994334\",\"type\":\"GlyphRenderer\"},{\"attributes\":{\"bottom_units\":\"screen\",\"fill_alpha\":{\"value\":0.5},\"fill_color\":{\"value\":\"lightgrey\"},\"left_units\":\"screen\",\"level\":\"overlay\",\"line_alpha\":{\"value\":1.0},\"line_color\":{\"value\":\"black\"},\"line_dash\":[4,4],\"line_width\":{\"value\":2},\"plot\":null,\"render_mode\":\"css\",\"right_units\":\"screen\",\"top_units\":\"screen\"},\"id\":\"4c19e034-3093-4686-ab2d-9677beea3f39\",\"type\":\"BoxAnnotation\"},{\"attributes\":{\"callback\":null},\"id\":\"dd6e4378-7db9-4796-a91d-db5f601475a5\",\"type\":\"DataRange1d\"},{\"attributes\":{\"plot\":{\"id\":\"d478fbda-2fda-4e41-bd40-7623675afd7b\",\"subtype\":\"Figure\",\"type\":\"Plot\"}},\"id\":\"f039ec0f-61d9-49c3-9849-4804696a990b\",\"type\":\"HelpTool\"},{\"attributes\":{\"plot\":{\"id\":\"d478fbda-2fda-4e41-bd40-7623675afd7b\",\"subtype\":\"Figure\",\"type\":\"Plot\"}},\"id\":\"aa95a71a-6bf5-48b8-908d-19fe43afeb3f\",\"type\":\"SaveTool\"},{\"attributes\":{\"plot\":{\"id\":\"d478fbda-2fda-4e41-bd40-7623675afd7b\",\"subtype\":\"Figure\",\"type\":\"Plot\"}},\"id\":\"f9cd85d8-b365-411e-b5f3-37b0025d57fe\",\"type\":\"WheelZoomTool\"},{\"attributes\":{\"line_alpha\":{\"value\":0.7},\"line_color\":{\"value\":\"green\"},\"line_width\":{\"value\":1.5},\"x\":{\"field\":\"x\"},\"y\":{\"field\":\"y\"}},\"id\":\"14406b2c-bce8-4fc6-9cef-66525d118601\",\"type\":\"Line\"},{\"attributes\":{\"callback\":null},\"id\":\"ba27221f-73a7-4e4a-9aff-27f6b36cec97\",\"type\":\"DataRange1d\"},{\"attributes\":{\"plot\":{\"id\":\"d478fbda-2fda-4e41-bd40-7623675afd7b\",\"subtype\":\"Figure\",\"type\":\"Plot\"}},\"id\":\"114bf5f8-015d-46c1-b266-ea530d4ed6e8\",\"type\":\"PanTool\"},{\"attributes\":{\"callback\":null,\"column_names\":[\"y\",\"x\",\"line_color\",\"fill_color\"],\"data\":{\"fill_color\":[\"blue\",\"red\",\"red\",\"blue\"],\"line_color\":[\"blue\",\"red\",\"red\",\"blue\"],\"x\":[0,0,1,1],\"y\":[0,1,0,1]}},\"id\":\"78278b15-fd53-41d1-973a-82dc7710995a\",\"type\":\"ColumnDataSource\"},{\"attributes\":{\"plot\":null,\"text\":\"Perceptron de compuerta l\\u00f3gica XOR\"},\"id\":\"a92604c4-7aae-4cc9-a4fc-ca4e88996679\",\"type\":\"Title\"},{\"attributes\":{\"overlay\":{\"id\":\"4c19e034-3093-4686-ab2d-9677beea3f39\",\"type\":\"BoxAnnotation\"},\"plot\":{\"id\":\"d478fbda-2fda-4e41-bd40-7623675afd7b\",\"subtype\":\"Figure\",\"type\":\"Plot\"}},\"id\":\"b2ca1c95-f58e-4265-ae12-686a00e5cff4\",\"type\":\"BoxZoomTool\"},{\"attributes\":{\"fill_color\":{\"field\":\"fill_color\"},\"line_color\":{\"field\":\"line_color\"},\"size\":{\"units\":\"screen\",\"value\":20},\"x\":{\"field\":\"x\"},\"y\":{\"field\":\"y\"}},\"id\":\"a1561526-127f-4fd8-a366-9655b0a0bfa2\",\"type\":\"Circle\"},{\"attributes\":{\"fill_alpha\":{\"value\":0.1},\"fill_color\":{\"value\":\"#1f77b4\"},\"line_alpha\":{\"value\":0.1},\"line_color\":{\"value\":\"#1f77b4\"},\"size\":{\"units\":\"screen\",\"value\":20},\"x\":{\"field\":\"x\"},\"y\":{\"field\":\"y\"}},\"id\":\"b98fe808-7671-462d-ad8c-6dabdc4c2a4d\",\"type\":\"Circle\"},{\"attributes\":{},\"id\":\"7877b34d-0fa9-473f-a881-e389fea374bf\",\"type\":\"BasicTickFormatter\"},{\"attributes\":{\"axis_label\":\"X2\",\"formatter\":{\"id\":\"4e3db1b1-0a77-4614-aa95-8734d36d789e\",\"type\":\"BasicTickFormatter\"},\"plot\":{\"id\":\"d478fbda-2fda-4e41-bd40-7623675afd7b\",\"subtype\":\"Figure\",\"type\":\"Plot\"},\"ticker\":{\"id\":\"669acdb7-74b9-4993-98a1-558fa8fe63d4\",\"type\":\"BasicTicker\"}},\"id\":\"4b35c0c8-d54b-4e45-8abc-1727c8cfaed8\",\"type\":\"LinearAxis\"},{\"attributes\":{\"line_alpha\":{\"value\":0.7},\"line_color\":{\"value\":\"green\"},\"line_width\":{\"value\":1.5},\"x\":{\"field\":\"x\"},\"y\":{\"field\":\"y\"}},\"id\":\"9ce63da0-b905-4ace-bb3c-130263f37960\",\"type\":\"Line\"},{\"attributes\":{\"plot\":{\"id\":\"d478fbda-2fda-4e41-bd40-7623675afd7b\",\"subtype\":\"Figure\",\"type\":\"Plot\"}},\"id\":\"3ece99cb-048b-451c-b162-55b82a06dd8e\",\"type\":\"ResetTool\"},{\"attributes\":{\"data_source\":{\"id\":\"db06a172-8cf5-4ed2-9239-a739690bfac8\",\"type\":\"ColumnDataSource\"},\"glyph\":{\"id\":\"14406b2c-bce8-4fc6-9cef-66525d118601\",\"type\":\"Line\"},\"hover_glyph\":null,\"nonselection_glyph\":{\"id\":\"57bba158-6174-437b-abbd-8b96e1c622cb\",\"type\":\"Line\"},\"selection_glyph\":null},\"id\":\"c231a0ef-1b5d-4509-9b46-d8e56464fa9e\",\"type\":\"GlyphRenderer\"},{\"attributes\":{\"line_alpha\":{\"value\":0.1},\"line_color\":{\"value\":\"#1f77b4\"},\"line_width\":{\"value\":1.5},\"x\":{\"field\":\"x\"},\"y\":{\"field\":\"y\"}},\"id\":\"57bba158-6174-437b-abbd-8b96e1c622cb\",\"type\":\"Line\"}],\"root_ids\":[\"d478fbda-2fda-4e41-bd40-7623675afd7b\"]},\"title\":\"Bokeh Application\",\"version\":\"0.12.0\"}};\n",
       "            var render_items = [{\"docid\":\"de7bc86e-bdef-4896-9f59-0e0a121352c2\",\"elementid\":\"978548f4-6993-4368-b01e-9dc0031221b3\",\"modelid\":\"d478fbda-2fda-4e41-bd40-7623675afd7b\",\"notebook_comms_target\":\"0fc1ffae-3626-44c0-8e03-7501157482a0\"}];\n",
       "            \n",
       "            Bokeh.embed.embed_items(docs_json, render_items);\n",
       "        });\n",
       "      },\n",
       "      function(Bokeh) {\n",
       "      }\n",
       "    ];\n",
       "  \n",
       "    function run_inline_js() {\n",
       "      for (var i = 0; i < inline_js.length; i++) {\n",
       "        inline_js[i](window.Bokeh);\n",
       "      }\n",
       "    }\n",
       "  \n",
       "    if (window._bokeh_is_loading === 0) {\n",
       "      console.log(\"Bokeh: BokehJS loaded, going straight to plotting\");\n",
       "      run_inline_js();\n",
       "    } else {\n",
       "      load_libs(js_urls, function() {\n",
       "        console.log(\"Bokeh: BokehJS plotting callback run at\", now());\n",
       "        run_inline_js();\n",
       "      });\n",
       "    }\n",
       "  }(this));\n",
       "</script>"
      ]
     },
     "metadata": {},
     "output_type": "display_data"
    },
    {
     "data": {
      "text/html": [
       "<p><code>&lt;Bokeh Notebook handle for <strong>In[75]</strong>&gt;</code></p>"
      ],
      "text/plain": [
       "<bokeh.io._CommsHandle at 0x7f188f7d3050>"
      ]
     },
     "execution_count": 75,
     "metadata": {},
     "output_type": "execute_result"
    }
   ],
   "source": [
    "intervalo = np.linspace(-0.5, 1.5, 100)\n",
    "p = figure(width=750, plot_height=500, title=None)\n",
    "p.circle(X[:,0],X[:,1],size=20,color=[\"red\" if i==1 else \"blue\" for i in Y])\n",
    "p.line(intervalo,-w1[0]/w1[2]+m1*intervalo, line_width=1.5, color=\"green\", alpha=0.7)\n",
    "p.line(intervalo,w2[0]/w2[2]-m2*intervalo, line_width=1.5, color=\"green\", alpha=0.7)\n",
    "p.title.text = \"Perceptron de compuerta lógica XOR\"\n",
    "p.xaxis.axis_label = \"X1\"\n",
    "p.yaxis.axis_label = \"X2\"\n",
    "show(p)  "
   ]
  },
  {
   "cell_type": "code",
   "execution_count": 63,
   "metadata": {
    "collapsed": true
   },
   "outputs": [],
   "source": [
    "?np.linspace()"
   ]
  },
  {
   "cell_type": "markdown",
   "metadata": {
    "collapsed": true
   },
   "source": [
    "# Predicción"
   ]
  },
  {
   "cell_type": "code",
   "execution_count": 64,
   "metadata": {
    "collapsed": true
   },
   "outputs": [],
   "source": [
    "zzz = np.array([0., 0.])"
   ]
  },
  {
   "cell_type": "code",
   "execution_count": 65,
   "metadata": {
    "collapsed": true
   },
   "outputs": [],
   "source": [
    "W = sess.run(W_layer1,feed_dict={x: X, y_: Y})"
   ]
  },
  {
   "cell_type": "code",
   "execution_count": 66,
   "metadata": {
    "collapsed": true
   },
   "outputs": [],
   "source": [
    "b = sess.run(b_layer1,feed_dict={x: X, y_: Y})"
   ]
  },
  {
   "cell_type": "code",
   "execution_count": 67,
   "metadata": {
    "collapsed": false
   },
   "outputs": [
    {
     "data": {
      "text/plain": [
       "array([ 6.73721266,  2.52403665])"
      ]
     },
     "execution_count": 67,
     "metadata": {},
     "output_type": "execute_result"
    }
   ],
   "source": [
    "zz = np.matmul(zzz,W) + b\n",
    "zz"
   ]
  },
  {
   "cell_type": "code",
   "execution_count": 68,
   "metadata": {
    "collapsed": true
   },
   "outputs": [],
   "source": [
    "W2 = sess.run(W_layer2,feed_dict={x: X, y_: Y})\n",
    "b2 = sess.run(b_layer2,feed_dict={x: X, y_: Y})"
   ]
  },
  {
   "cell_type": "code",
   "execution_count": 69,
   "metadata": {
    "collapsed": false
   },
   "outputs": [
    {
     "data": {
      "text/plain": [
       "array([ 32.98770674])"
      ]
     },
     "execution_count": 69,
     "metadata": {},
     "output_type": "execute_result"
    }
   ],
   "source": [
    "res = np.matmul(zz,W2) + b2\n",
    "res"
   ]
  },
  {
   "cell_type": "code",
   "execution_count": 70,
   "metadata": {
    "collapsed": false
   },
   "outputs": [
    {
     "data": {
      "text/plain": [
       "array([[ 0.],\n",
       "       [ 1.],\n",
       "       [ 1.],\n",
       "       [ 0.]], dtype=float32)"
      ]
     },
     "execution_count": 70,
     "metadata": {},
     "output_type": "execute_result"
    }
   ],
   "source": [
    "np.round(sess.run(hip,feed_dict={x: X, y_: Y}), decimals=1)"
   ]
  },
  {
   "cell_type": "code",
   "execution_count": 39,
   "metadata": {
    "collapsed": false
   },
   "outputs": [
    {
     "data": {
      "text/plain": [
       "array([[0],\n",
       "       [1],\n",
       "       [1],\n",
       "       [0]])"
      ]
     },
     "execution_count": 39,
     "metadata": {},
     "output_type": "execute_result"
    }
   ],
   "source": [
    "Y"
   ]
  },
  {
   "cell_type": "code",
   "execution_count": null,
   "metadata": {
    "collapsed": true
   },
   "outputs": [],
   "source": []
  },
  {
   "cell_type": "code",
   "execution_count": null,
   "metadata": {
    "collapsed": true
   },
   "outputs": [],
   "source": []
  },
  {
   "cell_type": "code",
   "execution_count": 71,
   "metadata": {
    "collapsed": true
   },
   "outputs": [],
   "source": [
    "y = tf.nn.softmax(tf.matmul(x,W) + b)"
   ]
  },
  {
   "cell_type": "code",
   "execution_count": 73,
   "metadata": {
    "collapsed": false
   },
   "outputs": [
    {
     "ename": "ValueError",
     "evalue": "Cannot feed value of shape (2,) for Tensor u'Placeholder:0', which has shape '(4, 2)'",
     "output_type": "error",
     "traceback": [
      "\u001b[1;31m---------------------------------------------------------------------------\u001b[0m",
      "\u001b[1;31mValueError\u001b[0m                                Traceback (most recent call last)",
      "\u001b[1;32m<ipython-input-73-c46f323fe0d7>\u001b[0m in \u001b[0;36m<module>\u001b[1;34m()\u001b[0m\n\u001b[0;32m      1\u001b[0m \u001b[0mfeed_dict\u001b[0m \u001b[1;33m=\u001b[0m \u001b[1;33m{\u001b[0m\u001b[0mx\u001b[0m\u001b[1;33m:\u001b[0m \u001b[0mzzz\u001b[0m\u001b[1;33m}\u001b[0m\u001b[1;33m\u001b[0m\u001b[0m\n\u001b[1;32m----> 2\u001b[1;33m \u001b[0mclassification\u001b[0m \u001b[1;33m=\u001b[0m \u001b[0msess\u001b[0m\u001b[1;33m.\u001b[0m\u001b[0mrun\u001b[0m\u001b[1;33m(\u001b[0m\u001b[0my\u001b[0m\u001b[1;33m,\u001b[0m \u001b[0mfeed_dict\u001b[0m\u001b[1;33m)\u001b[0m\u001b[1;33m\u001b[0m\u001b[0m\n\u001b[0m\u001b[0;32m      3\u001b[0m \u001b[1;32mprint\u001b[0m \u001b[0mclassification\u001b[0m\u001b[1;33m\u001b[0m\u001b[0m\n",
      "\u001b[1;32m/home/ollin/.pyenv/versions/anaconda2-4.1.1/lib/python2.7/site-packages/tensorflow/python/client/session.pyc\u001b[0m in \u001b[0;36mrun\u001b[1;34m(self, fetches, feed_dict, options, run_metadata)\u001b[0m\n\u001b[0;32m    380\u001b[0m     \u001b[1;32mtry\u001b[0m\u001b[1;33m:\u001b[0m\u001b[1;33m\u001b[0m\u001b[0m\n\u001b[0;32m    381\u001b[0m       result = self._run(None, fetches, feed_dict, options_ptr,\n\u001b[1;32m--> 382\u001b[1;33m                          run_metadata_ptr)\n\u001b[0m\u001b[0;32m    383\u001b[0m       \u001b[1;32mif\u001b[0m \u001b[0mrun_metadata\u001b[0m\u001b[1;33m:\u001b[0m\u001b[1;33m\u001b[0m\u001b[0m\n\u001b[0;32m    384\u001b[0m         \u001b[0mproto_data\u001b[0m \u001b[1;33m=\u001b[0m \u001b[0mtf_session\u001b[0m\u001b[1;33m.\u001b[0m\u001b[0mTF_GetBuffer\u001b[0m\u001b[1;33m(\u001b[0m\u001b[0mrun_metadata_ptr\u001b[0m\u001b[1;33m)\u001b[0m\u001b[1;33m\u001b[0m\u001b[0m\n",
      "\u001b[1;32m/home/ollin/.pyenv/versions/anaconda2-4.1.1/lib/python2.7/site-packages/tensorflow/python/client/session.pyc\u001b[0m in \u001b[0;36m_run\u001b[1;34m(self, handle, fetches, feed_dict, options, run_metadata)\u001b[0m\n\u001b[0;32m    638\u001b[0m                 \u001b[1;34m'Cannot feed value of shape %r for Tensor %r, '\u001b[0m\u001b[1;33m\u001b[0m\u001b[0m\n\u001b[0;32m    639\u001b[0m                 \u001b[1;34m'which has shape %r'\u001b[0m\u001b[1;33m\u001b[0m\u001b[0m\n\u001b[1;32m--> 640\u001b[1;33m                 % (np_val.shape, subfeed_t.name, str(subfeed_t.get_shape())))\n\u001b[0m\u001b[0;32m    641\u001b[0m           \u001b[1;32mif\u001b[0m \u001b[1;32mnot\u001b[0m \u001b[0mself\u001b[0m\u001b[1;33m.\u001b[0m\u001b[0mgraph\u001b[0m\u001b[1;33m.\u001b[0m\u001b[0mis_feedable\u001b[0m\u001b[1;33m(\u001b[0m\u001b[0msubfeed_t\u001b[0m\u001b[1;33m)\u001b[0m\u001b[1;33m:\u001b[0m\u001b[1;33m\u001b[0m\u001b[0m\n\u001b[0;32m    642\u001b[0m             \u001b[1;32mraise\u001b[0m \u001b[0mValueError\u001b[0m\u001b[1;33m(\u001b[0m\u001b[1;34m'Tensor %s may not be fed.'\u001b[0m \u001b[1;33m%\u001b[0m \u001b[0msubfeed_t\u001b[0m\u001b[1;33m)\u001b[0m\u001b[1;33m\u001b[0m\u001b[0m\n",
      "\u001b[1;31mValueError\u001b[0m: Cannot feed value of shape (2,) for Tensor u'Placeholder:0', which has shape '(4, 2)'"
     ]
    }
   ],
   "source": [
    "feed_dict = {x: zzz}\n",
    "classification = sess.run(y, feed_dict)\n",
    "print classification"
   ]
  },
  {
   "cell_type": "code",
   "execution_count": null,
   "metadata": {
    "collapsed": true
   },
   "outputs": [],
   "source": []
  }
 ],
 "metadata": {
  "kernelspec": {
   "display_name": "Python [Root]",
   "language": "python",
   "name": "Python [Root]"
  },
  "language_info": {
   "codemirror_mode": {
    "name": "ipython",
    "version": 2
   },
   "file_extension": ".py",
   "mimetype": "text/x-python",
   "name": "python",
   "nbconvert_exporter": "python",
   "pygments_lexer": "ipython2",
   "version": "2.7.12"
  }
 },
 "nbformat": 4,
 "nbformat_minor": 0
}
